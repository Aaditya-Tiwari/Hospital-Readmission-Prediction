{
 "cells": [
  {
   "cell_type": "code",
   "execution_count": 5,
   "id": "initial_id",
   "metadata": {
    "ExecuteTime": {
     "end_time": "2025-07-12T04:19:31.139944Z",
     "start_time": "2025-07-12T04:19:31.135412Z"
    }
   },
   "outputs": [
    {
     "name": "stdout",
     "output_type": "stream",
     "text": [
      "Libraries imported successfully\n"
     ]
    }
   ],
   "source": [
    "#Imports and set up\n",
    "import pandas as pd\n",
    "import matplotlib.pyplot as plt\n",
    "import seaborn as sns\n",
    "\n",
    "sns.set_style(\"whitegrid\")\n",
    "print(\"Libraries imported successfully\")"
   ]
  },
  {
   "cell_type": "code",
   "execution_count": 6,
   "id": "2d6b28d7ca1e174c",
   "metadata": {
    "jupyter": {
     "is_executing": true
    }
   },
   "outputs": [
    {
     "name": "stdout",
     "output_type": "stream",
     "text": [
      "Dataset successfully loaded\n",
      "encounter_id                    0\n",
      "patient_nbr                     0\n",
      "race                         2273\n",
      "gender                          0\n",
      "age                             0\n",
      "admission_type_id               0\n",
      "discharge_disposition_id        0\n",
      "admission_source_id             0\n",
      "time_in_hospital                0\n",
      "num_lab_procedures              0\n",
      "num_procedures                  0\n",
      "num_medications                 0\n",
      "number_outpatient               0\n",
      "number_emergency                0\n",
      "number_inpatient                0\n",
      "diag_1                         21\n",
      "diag_2                        358\n",
      "diag_3                       1423\n",
      "number_diagnoses                0\n",
      "max_glu_serum               96420\n",
      "A1Cresult                   84748\n",
      "metformin                       0\n",
      "repaglinide                     0\n",
      "nateglinide                     0\n",
      "chlorpropamide                  0\n",
      "glimepiride                     0\n",
      "acetohexamide                   0\n",
      "glipizide                       0\n",
      "glyburide                       0\n",
      "tolbutamide                     0\n",
      "pioglitazone                    0\n",
      "rosiglitazone                   0\n",
      "acarbose                        0\n",
      "miglitol                        0\n",
      "troglitazone                    0\n",
      "tolazamide                      0\n",
      "examide                         0\n",
      "citoglipton                     0\n",
      "insulin                         0\n",
      "glyburide-metformin             0\n",
      "glipizide-metformin             0\n",
      "glimepiride-pioglitazone        0\n",
      "metformin-rosiglitazone         0\n",
      "metformin-pioglitazone          0\n",
      "change                          0\n",
      "diabetesMed                     0\n",
      "readmitted                      0\n",
      "dtype: int64\n"
     ]
    },
    {
     "name": "stderr",
     "output_type": "stream",
     "text": [
      "/var/folders/g5/qbm9xyfx6wvcfg2cg77frnbm0000gr/T/ipykernel_52195/3720147131.py:16: FutureWarning: Downcasting behavior in `replace` is deprecated and will be removed in a future version. To retain the old behavior, explicitly call `result.infer_objects(copy=False)`. To opt-in to the future behavior, set `pd.set_option('future.no_silent_downcasting', True)`\n",
      "  df['readmitted'] = df['readmitted'].replace({'<30': 1, '>30': 0, 'NO': 0})\n"
     ]
    },
    {
     "data": {
      "text/plain": [
       "readmitted\n",
       "0    90409\n",
       "1    11357\n",
       "Name: count, dtype: int64"
      ]
     },
     "execution_count": 6,
     "metadata": {},
     "output_type": "execute_result"
    }
   ],
   "source": [
    "#Following cell is for data loading and cleaning\n",
    "\n",
    "#Load the dataset from the CSV file\n",
    "df = pd.read_csv('diabetic_data.csv')\n",
    "print(\"Dataset successfully loaded\")\n",
    "\n",
    "df.head()\n",
    "\n",
    "#Replace all the mostly missing value cells with missing value markers and drop them\n",
    "df.replace('?', pd.NA, inplace=True)\n",
    "df.drop(['weight', 'payer_code', 'medical_specialty'], axis=1, inplace=True)\n",
    "print(df.isnull().sum())\n",
    "\n",
    "# Map the binary target variable, and replace <30 and >30 to showing 1 is yes (readmitted in 30 days), \n",
    "# 0 is no (not readmitted in 30 days) respectively\n",
    "df['readmitted'] = df['readmitted'].replace({'<30': 1, '>30': 0, 'NO': 0})\n",
    "df['readmitted'].value_counts()"
   ]
  },
  {
   "cell_type": "code",
   "execution_count": 7,
   "id": "7a26f1a2-9852-4610-b900-097712940902",
   "metadata": {},
   "outputs": [
    {
     "data": {
      "text/html": [
       "<div>\n",
       "<style scoped>\n",
       "    .dataframe tbody tr th:only-of-type {\n",
       "        vertical-align: middle;\n",
       "    }\n",
       "\n",
       "    .dataframe tbody tr th {\n",
       "        vertical-align: top;\n",
       "    }\n",
       "\n",
       "    .dataframe thead th {\n",
       "        text-align: right;\n",
       "    }\n",
       "</style>\n",
       "<table border=\"1\" class=\"dataframe\">\n",
       "  <thead>\n",
       "    <tr style=\"text-align: right;\">\n",
       "      <th></th>\n",
       "      <th>encounter_id</th>\n",
       "      <th>patient_nbr</th>\n",
       "      <th>admission_type_id</th>\n",
       "      <th>discharge_disposition_id</th>\n",
       "      <th>admission_source_id</th>\n",
       "      <th>time_in_hospital</th>\n",
       "      <th>num_lab_procedures</th>\n",
       "      <th>num_procedures</th>\n",
       "      <th>num_medications</th>\n",
       "      <th>number_outpatient</th>\n",
       "      <th>...</th>\n",
       "      <th>gender_Unknown/Invalid</th>\n",
       "      <th>age_[10-20)</th>\n",
       "      <th>age_[20-30)</th>\n",
       "      <th>age_[30-40)</th>\n",
       "      <th>age_[40-50)</th>\n",
       "      <th>age_[50-60)</th>\n",
       "      <th>age_[60-70)</th>\n",
       "      <th>age_[70-80)</th>\n",
       "      <th>age_[80-90)</th>\n",
       "      <th>age_[90-100)</th>\n",
       "    </tr>\n",
       "  </thead>\n",
       "  <tbody>\n",
       "    <tr>\n",
       "      <th>0</th>\n",
       "      <td>2278392</td>\n",
       "      <td>8222157</td>\n",
       "      <td>6</td>\n",
       "      <td>25</td>\n",
       "      <td>1</td>\n",
       "      <td>1</td>\n",
       "      <td>41</td>\n",
       "      <td>0</td>\n",
       "      <td>1</td>\n",
       "      <td>0</td>\n",
       "      <td>...</td>\n",
       "      <td>False</td>\n",
       "      <td>False</td>\n",
       "      <td>False</td>\n",
       "      <td>False</td>\n",
       "      <td>False</td>\n",
       "      <td>False</td>\n",
       "      <td>False</td>\n",
       "      <td>False</td>\n",
       "      <td>False</td>\n",
       "      <td>False</td>\n",
       "    </tr>\n",
       "    <tr>\n",
       "      <th>1</th>\n",
       "      <td>149190</td>\n",
       "      <td>55629189</td>\n",
       "      <td>1</td>\n",
       "      <td>1</td>\n",
       "      <td>7</td>\n",
       "      <td>3</td>\n",
       "      <td>59</td>\n",
       "      <td>0</td>\n",
       "      <td>18</td>\n",
       "      <td>0</td>\n",
       "      <td>...</td>\n",
       "      <td>False</td>\n",
       "      <td>True</td>\n",
       "      <td>False</td>\n",
       "      <td>False</td>\n",
       "      <td>False</td>\n",
       "      <td>False</td>\n",
       "      <td>False</td>\n",
       "      <td>False</td>\n",
       "      <td>False</td>\n",
       "      <td>False</td>\n",
       "    </tr>\n",
       "    <tr>\n",
       "      <th>2</th>\n",
       "      <td>64410</td>\n",
       "      <td>86047875</td>\n",
       "      <td>1</td>\n",
       "      <td>1</td>\n",
       "      <td>7</td>\n",
       "      <td>2</td>\n",
       "      <td>11</td>\n",
       "      <td>5</td>\n",
       "      <td>13</td>\n",
       "      <td>2</td>\n",
       "      <td>...</td>\n",
       "      <td>False</td>\n",
       "      <td>False</td>\n",
       "      <td>True</td>\n",
       "      <td>False</td>\n",
       "      <td>False</td>\n",
       "      <td>False</td>\n",
       "      <td>False</td>\n",
       "      <td>False</td>\n",
       "      <td>False</td>\n",
       "      <td>False</td>\n",
       "    </tr>\n",
       "    <tr>\n",
       "      <th>3</th>\n",
       "      <td>500364</td>\n",
       "      <td>82442376</td>\n",
       "      <td>1</td>\n",
       "      <td>1</td>\n",
       "      <td>7</td>\n",
       "      <td>2</td>\n",
       "      <td>44</td>\n",
       "      <td>1</td>\n",
       "      <td>16</td>\n",
       "      <td>0</td>\n",
       "      <td>...</td>\n",
       "      <td>False</td>\n",
       "      <td>False</td>\n",
       "      <td>False</td>\n",
       "      <td>True</td>\n",
       "      <td>False</td>\n",
       "      <td>False</td>\n",
       "      <td>False</td>\n",
       "      <td>False</td>\n",
       "      <td>False</td>\n",
       "      <td>False</td>\n",
       "    </tr>\n",
       "    <tr>\n",
       "      <th>4</th>\n",
       "      <td>16680</td>\n",
       "      <td>42519267</td>\n",
       "      <td>1</td>\n",
       "      <td>1</td>\n",
       "      <td>7</td>\n",
       "      <td>1</td>\n",
       "      <td>51</td>\n",
       "      <td>0</td>\n",
       "      <td>8</td>\n",
       "      <td>0</td>\n",
       "      <td>...</td>\n",
       "      <td>False</td>\n",
       "      <td>False</td>\n",
       "      <td>False</td>\n",
       "      <td>False</td>\n",
       "      <td>True</td>\n",
       "      <td>False</td>\n",
       "      <td>False</td>\n",
       "      <td>False</td>\n",
       "      <td>False</td>\n",
       "      <td>False</td>\n",
       "    </tr>\n",
       "  </tbody>\n",
       "</table>\n",
       "<p>5 rows × 59 columns</p>\n",
       "</div>"
      ],
      "text/plain": [
       "   encounter_id  patient_nbr  admission_type_id  discharge_disposition_id  \\\n",
       "0       2278392      8222157                  6                        25   \n",
       "1        149190     55629189                  1                         1   \n",
       "2         64410     86047875                  1                         1   \n",
       "3        500364     82442376                  1                         1   \n",
       "4         16680     42519267                  1                         1   \n",
       "\n",
       "   admission_source_id  time_in_hospital  num_lab_procedures  num_procedures  \\\n",
       "0                    1                 1                  41               0   \n",
       "1                    7                 3                  59               0   \n",
       "2                    7                 2                  11               5   \n",
       "3                    7                 2                  44               1   \n",
       "4                    7                 1                  51               0   \n",
       "\n",
       "   num_medications  number_outpatient  ...  gender_Unknown/Invalid  \\\n",
       "0                1                  0  ...                   False   \n",
       "1               18                  0  ...                   False   \n",
       "2               13                  2  ...                   False   \n",
       "3               16                  0  ...                   False   \n",
       "4                8                  0  ...                   False   \n",
       "\n",
       "   age_[10-20) age_[20-30) age_[30-40) age_[40-50)  age_[50-60) age_[60-70)  \\\n",
       "0        False       False       False       False        False       False   \n",
       "1         True       False       False       False        False       False   \n",
       "2        False        True       False       False        False       False   \n",
       "3        False       False        True       False        False       False   \n",
       "4        False       False       False        True        False       False   \n",
       "\n",
       "  age_[70-80) age_[80-90) age_[90-100)  \n",
       "0       False       False        False  \n",
       "1       False       False        False  \n",
       "2       False       False        False  \n",
       "3       False       False        False  \n",
       "4       False       False        False  \n",
       "\n",
       "[5 rows x 59 columns]"
      ]
     },
     "execution_count": 7,
     "metadata": {},
     "output_type": "execute_result"
    }
   ],
   "source": [
    "#Convert categorical data into numbers (One-hot encoding)\n",
    "categorical_cols = ['race', 'gender', 'age']\n",
    "df = pd.get_dummies(df, columns=categorical_cols, drop_first=True)\n",
    "df.head()"
   ]
  },
  {
   "cell_type": "code",
   "execution_count": 8,
   "id": "a359f8bb-6ef2-4e3a-bc19-86d8ff54a5d7",
   "metadata": {},
   "outputs": [
    {
     "name": "stdout",
     "output_type": "stream",
     "text": [
      "Features and target selected\n"
     ]
    }
   ],
   "source": [
    "#Selecting features (X) and target (y)\n",
    "\n",
    "#Make the readmitted column as the target 'y', then select all other ones as 'X' and drop the remaining text columns to keep it simple\n",
    "y = df['readmitted']\n",
    "X_numeric = df.select_dtypes(include='number')\n",
    "X = X_numeric.drop(columns=['encounter_id', 'patient_nbr', 'readmitted'])\n",
    "print(\"Features and target selected\")"
   ]
  },
  {
   "cell_type": "code",
   "execution_count": 9,
   "id": "010725a2-8916-4e6a-8729-8d237a238ca5",
   "metadata": {},
   "outputs": [
    {
     "name": "stdout",
     "output_type": "stream",
     "text": [
      "Data successfully split into training and testing sets\n"
     ]
    }
   ],
   "source": [
    "#Splitting data for training vs testing\n",
    "from sklearn.model_selection import train_test_split\n",
    "\n",
    "X_train, X_test, y_train, y_test = train_test_split(X, y, test_size=0.2, random_state=42, stratify=y)\n",
    "print(\"Data successfully split into training and testing sets\")"
   ]
  },
  {
   "cell_type": "code",
   "execution_count": 10,
   "id": "80658baf-43aa-4b02-820d-81d59ba392d8",
   "metadata": {},
   "outputs": [
    {
     "name": "stdout",
     "output_type": "stream",
     "text": [
      "Missing values handled\n"
     ]
    }
   ],
   "source": [
    "#Handling missing values\n",
    "from sklearn.impute import SimpleImputer\n",
    "\n",
    "#Create imputer object and fill them in with the median value of each column\n",
    "imputer = SimpleImputer(strategy='median')\n",
    "X_train = imputer.fit_transform(X_train)\n",
    "X_test = imputer.transform(X_test)\n",
    "\n",
    "print(\"Missing values handled\")"
   ]
  },
  {
   "cell_type": "code",
   "execution_count": 11,
   "id": "a72ab778-d92f-45ae-8cd6-ca9c7b1c7e55",
   "metadata": {},
   "outputs": [
    {
     "name": "stdout",
     "output_type": "stream",
     "text": [
      "Model training complete using RandomForest complete!\n"
     ]
    }
   ],
   "source": [
    "#Training the model, use the RandomForestClassifier model to make a accurate prediction\n",
    "from sklearn.ensemble import RandomForestClassifier\n",
    "\n",
    "model = RandomForestClassifier(random_state=42, class_weight='balanced')\n",
    "\n",
    "#Train model\n",
    "model.fit(X_train, y_train)\n",
    "print(\"Model training complete using RandomForest complete!\")"
   ]
  },
  {
   "cell_type": "code",
   "execution_count": 12,
   "id": "6655fefc-b874-414d-a3f2-2ef49133f191",
   "metadata": {},
   "outputs": [
    {
     "name": "stdout",
     "output_type": "stream",
     "text": [
      "Predictions made based on the test data set.\n"
     ]
    }
   ],
   "source": [
    "#Making predictions\n",
    "predictions = model.predict(X_test)\n",
    "print(\"Predictions made based on the test data set.\")"
   ]
  },
  {
   "cell_type": "code",
   "execution_count": 13,
   "id": "b6aaa9ab-ae41-4e07-9043-8195973746a4",
   "metadata": {},
   "outputs": [
    {
     "name": "stdout",
     "output_type": "stream",
     "text": [
      "Accuracy: 0.88\n",
      "------------------------------\n",
      "Classification Report:\n",
      "              precision    recall  f1-score   support\n",
      "\n",
      "           0       0.89      0.99      0.94     18083\n",
      "           1       0.25      0.02      0.04      2271\n",
      "\n",
      "    accuracy                           0.88     20354\n",
      "   macro avg       0.57      0.51      0.49     20354\n",
      "weighted avg       0.82      0.88      0.84     20354\n",
      "\n",
      "Confusion Matrix:\n"
     ]
    },
    {
     "data": {
      "text/plain": [
       "<sklearn.metrics._plot.confusion_matrix.ConfusionMatrixDisplay at 0x1486c56a0>"
      ]
     },
     "execution_count": 13,
     "metadata": {},
     "output_type": "execute_result"
    },
    {
     "data": {
      "image/png": "[encoded data removed]",
      "text/plain": [
       "<Figure size 640x480 with 2 Axes>"
      ]
     },
     "metadata": {},
     "output_type": "display_data"
    }
   ],
   "source": [
    "#Checking performance of prediction\n",
    "from sklearn.metrics import accuracy_score, classification_report, ConfusionMatrixDisplay\n",
    "\n",
    "#Calculate and display the classification report, and a confusion matrix\n",
    "accuracy = accuracy_score(y_test, predictions)\n",
    "print(f\"Accuracy: {accuracy:.2f}\")\n",
    "print(\"-\" * 30)\n",
    "\n",
    "print(\"Classification Report:\")\n",
    "print(classification_report(y_test, predictions))\n",
    "print(\"Confusion Matrix:\")\n",
    "ConfusionMatrixDisplay.from_estimator(model, X_test, y_test)"
   ]
  },
  {
   "cell_type": "code",
   "execution_count": null,
   "id": "6fa01505-3514-4dab-a978-9d6dfd784d6f",
   "metadata": {},
   "outputs": [],
   "source": []
  }
 ],
 "metadata": {
  "kernelspec": {
   "display_name": "Python [conda env:base] *",
   "language": "python",
   "name": "conda-base-py"
  },
  "language_info": {
   "codemirror_mode": {
    "name": "ipython",
    "version": 3
   },
   "file_extension": ".py",
   "mimetype": "text/x-python",
   "name": "python",
   "nbconvert_exporter": "python",
   "pygments_lexer": "ipython3",
   "version": "3.13.5"
  }
 },
 "nbformat": 4,
 "nbformat_minor": 5
}
